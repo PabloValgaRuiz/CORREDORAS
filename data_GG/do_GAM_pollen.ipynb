{
 "cells": [
  {
   "cell_type": "code",
   "execution_count": 2,
   "metadata": {},
   "outputs": [],
   "source": [
    "import pandas as pd\n",
    "import numpy as np\n",
    "\n",
    "import matplotlib as mpl\n",
    "import matplotlib.pyplot as plt\n",
    "import pygam as gm\n",
    "import copy as cp\n",
    "\n",
    "import time"
   ]
  },
  {
   "cell_type": "code",
   "execution_count": 3,
   "metadata": {},
   "outputs": [
    {
     "name": "stdout",
     "output_type": "stream",
     "text": [
      "Common settings done!\n",
      "Species Cerastium has all zeros!\n",
      "Species Sapotaceae has all zeros!\n",
      "Species Ziziphus has all zeros!\n"
     ]
    }
   ],
   "source": [
    "dirdatain = '../data_GG/'\n",
    "\n",
    "species = {} # dictionary with the IDs of the species (as they change across networks)\n",
    "\n",
    "print('Common settings done!')\n",
    "\n",
    "\n",
    "mydf = pd.read_csv(dirdatain+'pollen_GG_p.csv')\n",
    "mydf = mydf.fillna(0)\n",
    "mydf['age'] = -mydf['age']\n",
    "mydf = mydf.sort_values(by=['age'])\n",
    "\n",
    "# rename the columns: remove the spaces and replace them with underscores\n",
    "\n",
    "mydf.columns = [col.replace(' ', '_') for col in mydf.columns]\n",
    "\n",
    "all_my_species = list(mydf.columns)\n",
    "myspecies = ['Betula','Artemisia']\n",
    "myspecies = ['Betula', 'Pinus', 'Corylus', 'Artemisia', 'Olea']\n",
    "myspecies = all_my_species[2:] # ALL SPECIES\n",
    "\n",
    "for spec in myspecies[:]: # ITERATE OVER A COPY\n",
    "    if mydf[spec].sum() == 0:\n",
    "        print('Species %s has all zeros!' %(spec))\n",
    "        myspecies.remove(spec)\n",
    "        mydf = mydf.drop(columns=[spec])\n",
    "\n",
    "mydf = mydf[['age'] + myspecies]"
   ]
  },
  {
   "cell_type": "code",
   "execution_count": 4,
   "metadata": {},
   "outputs": [
    {
     "data": {
      "text/plain": [
       "301"
      ]
     },
     "execution_count": 4,
     "metadata": {},
     "output_type": "execute_result"
    }
   ],
   "source": [
    "len(mydf)"
   ]
  },
  {
   "cell_type": "code",
   "execution_count": null,
   "metadata": {},
   "outputs": [
    {
     "name": "stdout",
     "output_type": "stream",
     "text": [
      "\tIterating on species Alchemilla ...\n",
      "\tIterating on species Chenopodiaceae ...\n",
      "\tIterating on species Artemisia ...\n",
      "\tIterating on species Cichoroideae ...\n",
      "\tIterating on species Asteroideae ...\n",
      "\tIterating on species Carduus ...\n",
      "\tIterating on species Asteraceae ...\n",
      "\tIterating on species Vernonia ...\n",
      "\tIterating on species Polygonum ...\n",
      "\tIterating on species Tribulus ...\n",
      "\tIterating on species Galium ...\n",
      "\tIterating on species Brassicaceae ...\n",
      "\tIterating on species Caryophylaceae ...\n",
      "\tIterating on species Swertia ...\n",
      "\tIterating on species Senecio ...\n",
      "\tIterating on species Erica ...\n",
      "\tIterating on species Hypericum ...\n",
      "\tIterating on species Anthospermum ...\n",
      "\tIterating on species Apiaceae ...\n",
      "\tIterating on species Podocarpus ...\n",
      "\tIterating on species Euclea ...\n",
      "\tIterating on species Hagenia ...\n",
      "\tIterating on species Juniperus ...\n",
      "\tIterating on species Myrsine ...\n",
      "\tIterating on species Rapanea ...\n",
      "\tIterating on species Rosa ...\n",
      "\tIterating on species Schefflera ...\n",
      "\tIterating on species Brucea ...\n",
      "\tIterating on species Iridaceae ...\n",
      "\tIterating on species Anthyllis ...\n",
      "\tIterating on species Maytenus ...\n",
      "\tIterating on species Buxus ...\n",
      "\tIterating on species Psydrax ...\n",
      "\tIterating on species Celastraceae ...\n",
      "\tIterating on species Celtis ...\n",
      "\tIterating on species Dodonaea ...\n",
      "\tIterating on species Ekebergia ...\n",
      "\tIterating on species Ephedra ...\n",
      "\tIterating on species Ficus ...\n",
      "\tIterating on species Ilex ...\n",
      "\tIterating on species Clematis ...\n",
      "\tIterating on species Myrica ...\n",
      "\tIterating on species Hypoestes ...\n",
      "\tIterating on species Acanthus ...\n",
      "\tIterating on species Allophylus ...\n",
      "\tIterating on species Acacia ...\n",
      "\tIterating on species Combretum ...\n",
      "\tIterating on species Commiphora ...\n",
      "\tIterating on species Cussonia ...\n",
      "\tIterating on species Dobera ...\n",
      "\tIterating on species Lannea ...\n",
      "\tIterating on species Macaranga ...\n",
      "\tIterating on species Olea ...\n",
      "\tIterating on species Jasminum ...\n",
      "\tIterating on species Phoenix ...\n",
      "\tIterating on species Rhus ...\n",
      "\tIterating on species Securinega ...\n",
      "\tIterating on species Teclea ...\n",
      "\tIterating on species Zanthoxylum ...\n",
      "\tIterating on species Cassia ...\n",
      "\tIterating on species Capparidaceae ...\n",
      "\tIterating on species Acalypha ...\n",
      "\tIterating on species Euphorbia ...\n",
      "\tIterating on species Euphorbiacea ...\n",
      "\tIterating on species Phyllantus ...\n",
      "\tIterating on species Tamarindus ...\n",
      "\tIterating on species Alchornea ...\n",
      "\tIterating on species Aloe ...\n",
      "\tIterating on species Asphodellus ...\n",
      "\tIterating on species Leguminosae ...\n",
      "\tIterating on species Rubiaceae ...\n",
      "\tIterating on species Blepharis ...\n",
      "\tIterating on species Justicia ...\n",
      "\tIterating on species Heliotropium ...\n",
      "\tIterating on species Kohautia ...\n",
      "\tIterating on species Indigofera ...\n",
      "\tIterating on species Lamiaceae ...\n",
      "\tIterating on species Cerealia ...\n",
      "\tIterating on species Plantago ...\n",
      "\tIterating on species Planceolata ...\n",
      "\tIterating on species Poaceae ...\n",
      "\tIterating on species Rumex ...\n",
      "\tIterating on species Solanum ...\n",
      "\tIterating on species Urticaceae ...\n",
      "\tIterating on species Ricinus ...\n",
      "\tIterating on species Saussurea ...\n",
      "\tIterating on species Monoletes ...\n",
      "\tIterating on species Triletes ...\n",
      "\tIterating on species Thalictrum ...\n",
      "\tIterating on species Typha ...\n",
      "\tIterating on species Cyperaceae ...\n",
      "\tIterating on species Ranunculus ...\n",
      "\tIterating on species Callytriche ...\n",
      "\tIterating on species herb ...\n",
      "\tIterating on species shrub ...\n",
      "\tIterating on species tree ...\n",
      "\tIterating on species hygrophyte ...\n",
      "\tIterating on species hydrophyte ...\n",
      "\tIterating on species algae.spores ...\n"
     ]
    }
   ],
   "source": [
    "fit_type = 'fit_301_0.01'\n",
    "n = 300\n",
    "species = {}\n",
    "vx = gm.utils.make_2d(mydf['age'], verbose=False).astype('float')\n",
    "for spec in myspecies:\n",
    "    print('\\tIterating on species %s ...' %(spec))\n",
    "    vy = mydf[spec]\n",
    "\n",
    "    mygam = gm.GAM(terms='auto', n_splines=301, lam=0.01).fit(vx, vy)\n",
    "    # mygam = gm.GAM(terms='auto').gridsearch(vx, vy)\n",
    "\n",
    "    species[spec] = {}\n",
    "    species[spec]['prev_x'] = mydf['age'].to_numpy()\n",
    "    species[spec]['prev_y'] = mydf[spec].to_numpy()\n",
    "\n",
    "    XX = mygam.generate_X_grid(term=0, n=300)\n",
    "    YY = mygam.predict(XX)\n",
    "    species[spec]['x'] = cp.copy(XX)[:,0]\n",
    "    species[spec]['y'] = cp.copy(YY)\n",
    "\n",
    "    # print(species[spec]['x'].shape)\n",
    "    # print(species[spec]['y'].shape)\n",
    "    # print(species[spec]['prev_x'].shape)\n",
    "    # print(species[spec]['prev_y'].shape)\n",
    "species_df = pd.DataFrame(species)\n",
    "species_df.to_pickle('GAM/species_%s.pkl' %(fit_type))"
   ]
  }
 ],
 "metadata": {
  "kernelspec": {
   "display_name": "Python 3",
   "language": "python",
   "name": "python3"
  },
  "language_info": {
   "codemirror_mode": {
    "name": "ipython",
    "version": 3
   },
   "file_extension": ".py",
   "mimetype": "text/x-python",
   "name": "python",
   "nbconvert_exporter": "python",
   "pygments_lexer": "ipython3",
   "version": "3.10.16"
  }
 },
 "nbformat": 4,
 "nbformat_minor": 2
}
