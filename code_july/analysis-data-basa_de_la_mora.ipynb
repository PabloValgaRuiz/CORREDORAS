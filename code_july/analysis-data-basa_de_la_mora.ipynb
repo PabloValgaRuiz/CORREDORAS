{
 "cells": [
  {
   "cell_type": "code",
   "execution_count": 2,
   "metadata": {},
   "outputs": [],
   "source": [
    "import pandas as pd\n",
    "import numpy as np\n",
    "\n",
    "import matplotlib.pyplot as plt\n",
    "import pandas as pd\n",
    "import numpy as np\n",
    "import pygam as gm\n",
    "import copy as cp"
   ]
  },
  {
   "cell_type": "code",
   "execution_count": 7,
   "metadata": {},
   "outputs": [
    {
     "name": "stdout",
     "output_type": "stream",
     "text": [
      "Species Lygeum spartum has all zeros!\n"
     ]
    }
   ],
   "source": [
    "dirdatain = '../data/'\n",
    "\n",
    "mydf_pollen_concentration = pd.read_csv(dirdatain+'basa_char_par.csv')\n",
    "myspecies = 'Abies,Pinus,Juniperus,Taxus,Betula,Corylus,Alnus,Carpinus,Salix,Ulmus,Populus,Acer,Fraxinus,Fagus,Tilia,Juglans,Castanea,Quercus caducifolio,Quercus perennifolio,Pistacia,Rhamnus,Phillyrea,Buxus,Sambucus,Viburnum,Sanguisorba,Tamarix,Thymelaeaceae,Ephedra distachya,Ephedra fragilis,Ericaceae,Hereda helix,Ilex aquifolium,Viscum album,Lonicera,Vitis,Oleaceae,Myrtus,Olea,Poaceae,Lygeum spartum,Artemisia,Cichorioideae,Asteroideae,Cardueae,Rubiaceae,Centaurea,Chenopodiaceae,Caryophyllaceae,Plantago,Brassicaceae,Saxifragaceae,Fabaceae,Genista,Lotus type,Trifolium type,Rosaceae,Ribes,Boraginaceae,Sedum,Helianthemum,Lamiaceae,Urticaceae,Rumex,Berberidaceae,Euphorbiaceae,Primulaceae,Scrophulariaceae,Papaver,Campanulaceae,Convolvulaceae,Liliaceae,Iridaceae,Crassulaceae,Ranunculaceae,Cistaceae,Galium,Apiaceae,Valerianaceae,Cerealia type,Polygonaceae,Ranunculus'.split(',')\n",
    "\n",
    "def clean_basa_pollen_concentration(mydf_pollen_concentration, myspecies):\n",
    "    mydf_pollen_concentration['cal BP'] = - mydf_pollen_concentration['cal BP']\n",
    "    mydf_pollen_concentration = mydf_pollen_concentration.fillna(0)\n",
    "    mydf_pollen_concentration = mydf_pollen_concentration.sort_values(by=['cal BP'])\n",
    "\n",
    "    all_species = list(mydf_pollen_concentration.columns)\n",
    "\n",
    "    # create a dictionary to map conflicting species names\n",
    "    species_mapping = {\n",
    "        \"Dec_Querc\": \"Quercus caducifolio\",\n",
    "        \"Ever_Querc\": \"Quercus perennifolio\",\n",
    "        \"Ephedra dist\": \"Ephedra distachya\",\n",
    "        \"Ephedra frag\": \"Ephedra fragilis\",\n",
    "        \"Lygeum\": \"Lygeum spartum\",\n",
    "        \"Cicho\": \"Cichorioideae\",\n",
    "        \"Astroi\": \"Asteroideae\",\n",
    "        \"Carduaceae\": \"Cardueae\",\n",
    "        \"Rubiac\": \"Rubiaceae\",\n",
    "        \"Chenopo\": \"Chenopodiaceae\",\n",
    "        \"Caryphy\": \"Caryophyllaceae\",\n",
    "        \"Brassicac\": \"Brassicaceae\",\n",
    "        \"Saxifrag\": \"Saxifragaceae\",\n",
    "        \"Boraginac\": \"Boraginaceae\",\n",
    "        \"Helianthem\": \"Helianthemum\",\n",
    "        \"Euphorbiac\": \"Euphorbiaceae\",\n",
    "        \"Primulac\": \"Primulaceae\",\n",
    "        \"Scrophulari\": \"Scrophulariaceae\",\n",
    "        \"Campanulac\": \"Campanulaceae\",\n",
    "        \"Valerian\": \"Valerianaceae\",\n",
    "        \"Cerealia\": \"Cerealia type\",\n",
    "        \"Polygon\": \"Polygonaceae\"\n",
    "    }\n",
    "    # Sanguisorba and Ribes do not appear. Sanguisorba has 0 pollen, Ribes is not zero but not in the list\n",
    "    myspecies.remove('Sanguisorba')\n",
    "    myspecies.remove('Ribes')\n",
    "\n",
    "    # replace the column names in mydf_pollen_concentration\n",
    "    mydf_pollen_concentration = mydf_pollen_concentration.rename(columns=species_mapping)\n",
    "\n",
    "    # mydf_pollen_concentration = mydf_pollen_concentration[['cal BP'] + myspecies]\n",
    "    mydf_pollen_concentration = mydf_pollen_concentration.set_index('cal BP')\n",
    "\n",
    "    return mydf_pollen_concentration\n",
    "\n",
    "mydf = clean_basa_pollen_concentration(mydf_pollen_concentration, myspecies)\n",
    "\n",
    "for spec in myspecies[:]: # ITERATE OVER A COPY\n",
    "        if mydf[spec].sum() == 0:\n",
    "            print('Species %s has all zeros!' %(spec))\n",
    "            myspecies.remove(spec)\n",
    "            mydf = mydf.drop(columns=[spec])\n"
   ]
  }
 ],
 "metadata": {
  "kernelspec": {
   "display_name": "Python 3",
   "language": "python",
   "name": "python3"
  },
  "language_info": {
   "codemirror_mode": {
    "name": "ipython",
    "version": 3
   },
   "file_extension": ".py",
   "mimetype": "text/x-python",
   "name": "python",
   "nbconvert_exporter": "python",
   "pygments_lexer": "ipython3",
   "version": "3.10.16"
  }
 },
 "nbformat": 4,
 "nbformat_minor": 2
}
