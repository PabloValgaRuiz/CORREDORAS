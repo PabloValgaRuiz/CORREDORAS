{
 "cells": [
  {
   "cell_type": "code",
   "execution_count": 1,
   "metadata": {},
   "outputs": [
    {
     "name": "stderr",
     "output_type": "stream",
     "text": [
      "/home/paval/papers/CORREDORAS/pablo_python/.conda/lib/python3.10/site-packages/numba/core/decorators.py:246: RuntimeWarning: nopython is set for njit and is ignored\n",
      "  warnings.warn('nopython is set for njit and is ignored', RuntimeWarning)\n"
     ]
    }
   ],
   "source": [
    "import numpy as np\n",
    "import pandas as pd\n",
    "import matplotlib.pyplot as plt\n",
    "import pyEDM as edm\n",
    "from PyIF import te_compute as te"
   ]
  },
  {
   "cell_type": "code",
   "execution_count": 2,
   "metadata": {},
   "outputs": [],
   "source": [
    "# Paramecium and Didinium (empirical predator prey)\n",
    "# data from https://doi.org/10.2307/4195\n",
    "\n",
    "def Paramecium_Didinium(CC = '0.375', **kwargs):\n",
    "    kwargs.setdefault('data')\n",
    "    # read from predator_prey_data/CC0.375.txt\n",
    "    data = pd.read_csv(f'predator_prey_data/CC{CC}.txt', sep = ',')\n",
    "    return data['t'].values, data['x'].values, data['y'].values"
   ]
  },
  {
   "cell_type": "code",
   "execution_count": 3,
   "metadata": {},
   "outputs": [],
   "source": [
    "def chaotic_system(corr_yx, corr_xy=0, timesteps = 1000, dt = 1, noise = 0):\n",
    "    x = np.array([.5])\n",
    "    y = np.array([.5])\n",
    "    t = np.arange(0, timesteps, dt)\n",
    "    for i in range(1, timesteps):\n",
    "        xtp1 = x[i-1]*(3.8-3.8*x[i-1] - corr_xy*y[i-1]) + np.random.normal(0, noise)\n",
    "        ytp1 = y[i-1]*(3.5-3.5*y[i-1] - corr_yx*x[i-1]) + np.random.normal(0, noise)\n",
    "        x = np.append(x, xtp1)\n",
    "        y = np.append(y, ytp1)\n",
    "    return t, x, y"
   ]
  },
  {
   "cell_type": "code",
   "execution_count": 4,
   "metadata": {},
   "outputs": [],
   "source": [
    "def CAM(corr_yx = 0, timesteps = 1000, dt = 1, noise = 0.3):\n",
    "    x = np.array([0.5])\n",
    "    y = np.array([0.5])\n",
    "    t = np.arange(0, timesteps, dt)\n",
    "    for i in range(1, timesteps):\n",
    "        xtp1 = 0.5*x[i-1] + 0.2*y[i-1] + np.random.normal(0, noise)\n",
    "        ytp1 = corr_yx*x[i-1] + 0.7*y[i-1] + np.random.normal(0, noise)\n",
    "        x = np.append(x, xtp1)\n",
    "        y = np.append(y, ytp1)\n",
    "    return t, x, y"
   ]
  },
  {
   "cell_type": "code",
   "execution_count": 5,
   "metadata": {},
   "outputs": [],
   "source": [
    "def method_CCM(x, y, **kwargs):\n",
    "    pair = pd.DataFrame({'x': x, 'y': y})\n",
    "\n",
    "    dfE1 = edm.EmbedDimension(dataFrame=pair, lib = [1, int(len(pair)/2)], pred = [int(len(pair)/2), len(pair)],\n",
    "                                columns='x', target='x', showPlot=False, maxE=6, tau = 1)\n",
    "    dfE2 = edm.EmbedDimension(dataFrame=pair, lib = [1, int(len(pair)/2)], pred = [int(len(pair)/2), len(pair)],\n",
    "                                columns='y', target='y', showPlot=False, maxE=6, tau = 1)\n",
    "    dfE = pd.concat([dfE1, dfE2])\n",
    "    E = int(dfE.iloc[dfE['rho'].idxmax()]['E'])\n",
    "    ccm = edm.CCM(dataFrame=pair, E=E, tau=1, columns='x', target='y', libSizes=[len(pair)], sample=1, showPlot=False)\n",
    "\n",
    "    return ccm['y:x'].iloc[-1]"
   ]
  },
  {
   "cell_type": "code",
   "execution_count": 6,
   "metadata": {},
   "outputs": [],
   "source": [
    "def method_TE(x, y, **kwargs):\n",
    "    k = kwargs.get('k', 1)\n",
    "    embedding = kwargs.get('embedding', 1)\n",
    "    return te.te_compute(y, x, safetyCheck=False, k=k, embedding=embedding)"
   ]
  },
  {
   "cell_type": "code",
   "execution_count": 8,
   "metadata": {},
   "outputs": [],
   "source": [
    "def obtain_pvalues(t, x, y, causal_method, nshuff = 100,  **kwargs): # arguments for the causal method\n",
    "    \n",
    "    corr = causal_method(x, y, **kwargs)\n",
    "\n",
    "    lfrom = np.random.randint(low=0, high=len(x), size=nshuff)\n",
    "    pval1 = 0\n",
    "    pval2 = 0\n",
    "    for i in range(nshuff):\n",
    "        x1 = np.random.permutation(x)\n",
    "        x2 = np.concatenate((x[lfrom[i]:], x[:lfrom[i]]))\n",
    "\n",
    "        corr1 = causal_method(x1, y, **kwargs)\n",
    "        corr2 = causal_method(x2, y, **kwargs)\n",
    "\n",
    "        if corr1 > corr:\n",
    "            pval1 = pval1 + 1\n",
    "        if corr2 > corr:\n",
    "            pval2 = pval2 + 1\n",
    "    \n",
    "    pval1 = pval1/nshuff\n",
    "    pval2 = pval2/nshuff\n",
    "\n",
    "    return corr, pval1, pval2"
   ]
  },
  {
   "cell_type": "code",
   "execution_count": 9,
   "metadata": {},
   "outputs": [],
   "source": [
    "t, x, y = chaotic_system(corr_yx = 0.4, timesteps = 1000, dt = 1, noise = 0.01)\n",
    "# causality from x to y\n",
    "pvalues_TE_chaotic_system =  obtain_pvalues(t, x, y, method_TE, k = 1, embedding = 1, nshuff = 100)\n",
    "pvalues_CCM_chaotic_system = obtain_pvalues(t, x, y, method_CCM, nshuff = 100)\n",
    "# now from y to x where there is no causality\n",
    "pvalues_TE_chaotic_system_switched =  obtain_pvalues(t, y, x, method_TE, k = 2, embedding = 1, nshuff = 100)\n",
    "pvalues_CCM_chaotic_system_switched = obtain_pvalues(t, y, x, method_CCM, nshuff = 100)"
   ]
  },
  {
   "cell_type": "code",
   "execution_count": 156,
   "metadata": {},
   "outputs": [],
   "source": [
    "# now from y to x where there is no causality\n",
    "pvalues_TE_chaotic_system_switched =  obtain_pvalues(t, y, x, method_TE, k = 2, embedding = 1, nshuff = 100)\n",
    "pvalues_CCM_chaotic_system_switched = obtain_pvalues(t, y, x, method_CCM, nshuff = 100)"
   ]
  },
  {
   "cell_type": "code",
   "execution_count": 152,
   "metadata": {},
   "outputs": [
    {
     "data": {
      "text/plain": [
       "(1.429782942105215, 0.0, 0.0)"
      ]
     },
     "execution_count": 152,
     "metadata": {},
     "output_type": "execute_result"
    }
   ],
   "source": [
    "pvalues_TE_chaotic_system"
   ]
  },
  {
   "cell_type": "code",
   "execution_count": 153,
   "metadata": {},
   "outputs": [
    {
     "data": {
      "text/plain": [
       "(0.97949, 0.0, 0.0)"
      ]
     },
     "execution_count": 153,
     "metadata": {},
     "output_type": "execute_result"
    }
   ],
   "source": [
    "pvalues_CCM_chaotic_system"
   ]
  },
  {
   "cell_type": "code",
   "execution_count": 157,
   "metadata": {},
   "outputs": [
    {
     "data": {
      "text/plain": [
       "(-0.7176371035054641, 0.02, 0.0)"
      ]
     },
     "execution_count": 157,
     "metadata": {},
     "output_type": "execute_result"
    }
   ],
   "source": [
    "pvalues_TE_chaotic_system_switched"
   ]
  },
  {
   "cell_type": "code",
   "execution_count": 158,
   "metadata": {},
   "outputs": [
    {
     "data": {
      "text/plain": [
       "(0.25585, 0.0, 0.03)"
      ]
     },
     "execution_count": 158,
     "metadata": {},
     "output_type": "execute_result"
    }
   ],
   "source": [
    "pvalues_CCM_chaotic_system_switched"
   ]
  },
  {
   "cell_type": "code",
   "execution_count": null,
   "metadata": {},
   "outputs": [],
   "source": []
  }
 ],
 "metadata": {
  "kernelspec": {
   "display_name": "Python 3",
   "language": "python",
   "name": "python3"
  },
  "language_info": {
   "codemirror_mode": {
    "name": "ipython",
    "version": 3
   },
   "file_extension": ".py",
   "mimetype": "text/x-python",
   "name": "python",
   "nbconvert_exporter": "python",
   "pygments_lexer": "ipython3",
   "version": "3.10.16"
  }
 },
 "nbformat": 4,
 "nbformat_minor": 2
}
